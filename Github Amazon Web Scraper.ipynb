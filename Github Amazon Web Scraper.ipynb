{
 "cells": [
  {
   "cell_type": "markdown",
   "id": "26a8df1a",
   "metadata": {},
   "source": [
    "Buidling a web scraper for amazon products"
   ]
  },
  {
   "cell_type": "code",
   "execution_count": 2,
   "id": "a4c4ce64",
   "metadata": {},
   "outputs": [],
   "source": [
    "import csv\n",
    "from bs4 import BeautifulSoup\n",
    "from selenium import webdriver\n",
    "from selenium.webdriver.chrome.service import Service"
   ]
  },
  {
   "cell_type": "markdown",
   "id": "40c378fd",
   "metadata": {},
   "source": [
    "Getting the url for multiple pages "
   ]
  },
  {
   "cell_type": "code",
   "execution_count": null,
   "id": "906a4baa",
   "metadata": {},
   "outputs": [],
   "source": [
    "def get_url(search_text):\n",
    "    \"\"\"Generate a url from search term\"\"\"\n",
    "    template = 'https://www.amazon.co.uk/s?k={}&crid=WE27RFFCTW2R&sprefix=pink+%2Caps%2C397&ref=nb_sb_noss_2'\n",
    "    search_term = search_text.replace(' ', '+')\n",
    "    \n",
    "    #add term query to url\n",
    "    url = template.format(search_term)\n",
    "    \n",
    "    #add page query placeholder\n",
    "    url += '&page={}'\n",
    "    \n",
    "    return url"
   ]
  },
  {
   "cell_type": "markdown",
   "id": "70a85d67",
   "metadata": {},
   "source": [
    "Extracting desired data"
   ]
  },
  {
   "cell_type": "code",
   "execution_count": null,
   "id": "0907dcf6",
   "metadata": {},
   "outputs": [],
   "source": [
    "def extract_record(item):\n",
    "    \"\"\"Extract and return data from single record\"\"\"\n",
    "    \n",
    "    #description and url\n",
    "    atag = item.h2.a\n",
    "    description = atag.text.strip()\n",
    "    url = 'https://www.amazon.co.uk' + atag.get('href')\n",
    "\n",
    "    #price\n",
    "    try:\n",
    "        price_parent = item.find('span','a-price')\n",
    "        price = price_parent.find('span', 'a-offscreen').text\n",
    "    except AttributeError:\n",
    "        return\n",
    "    \n",
    "    #price before\n",
    "    try:\n",
    "        price_before = item.find('span','a-price a-text-price').text\n",
    "    except AttributeError:\n",
    "        return\n",
    "    \n",
    "    #rating & review count\n",
    "    try: \n",
    "        rating = item.i.text\n",
    "        review_count = item.find('span','a-size-base s-underline-text').text\n",
    "    except AttributeError:\n",
    "        rating = ''\n",
    "        review_count = ''\n",
    "    \n",
    "    result = (description, price, price_before, rating, review_count, url)\n",
    "    \n",
    "    return result"
   ]
  },
  {
   "cell_type": "markdown",
   "id": "a2b98650",
   "metadata": {},
   "source": [
    "Running scraper to open Amazon"
   ]
  },
  {
   "cell_type": "code",
   "execution_count": null,
   "id": "3973322f",
   "metadata": {},
   "outputs": [],
   "source": [
    "def main(search_term):\n",
    "    \"\"\"\"run main program routine\"\"\"\n",
    "    #start up web driver\n",
    "    driver_service = Service(executable_path='C:/Users/kodai/Documents/Coding/chromedriver_win32/chromedriver.exe')\n",
    "    driver = webdriver.Chrome(service=driver_service)\n",
    "    \n",
    "    records = []\n",
    "    url = get_url(search_term)\n",
    "    \n",
    "    for page in range(1,8):\n",
    "        driver.get(url.format(page))\n",
    "        soup = BeautifulSoup(driver.page_source, 'html.parser')\n",
    "        results = soup.find_all('div',{'data-component-type': 's-search-result'})\n",
    "        \n",
    "        for item in results:\n",
    "            record = extract_record(item)\n",
    "            if record:\n",
    "                records.append(record)\n",
    "\n",
    "    driver.close()\n",
    "    \n"
   ]
  },
  {
   "cell_type": "markdown",
   "id": "f03ce7ea",
   "metadata": {},
   "source": [
    "Saving to a file"
   ]
  },
  {
   "cell_type": "code",
   "execution_count": null,
   "id": "5a86e2b2",
   "metadata": {},
   "outputs": [],
   "source": [
    "    #save data to csv\n",
    "    with open('#Enter file name.csv','w', newline='', encoding='utf-8') as f:\n",
    "        writer = csv.writer(f)\n",
    "        writer.writerow(['Description', 'Price', 'Rating', 'Review', 'Review_Count', 'URL'])\n",
    "        writer.writerows(records)\n"
   ]
  },
  {
   "cell_type": "code",
   "execution_count": null,
   "id": "4c1516e1",
   "metadata": {},
   "outputs": [],
   "source": [
    "main('#Enter search keyword')"
   ]
  }
 ],
 "metadata": {
  "kernelspec": {
   "display_name": "Python 3 (ipykernel)",
   "language": "python",
   "name": "python3"
  },
  "language_info": {
   "codemirror_mode": {
    "name": "ipython",
    "version": 3
   },
   "file_extension": ".py",
   "mimetype": "text/x-python",
   "name": "python",
   "nbconvert_exporter": "python",
   "pygments_lexer": "ipython3",
   "version": "3.9.12"
  }
 },
 "nbformat": 4,
 "nbformat_minor": 5
}
